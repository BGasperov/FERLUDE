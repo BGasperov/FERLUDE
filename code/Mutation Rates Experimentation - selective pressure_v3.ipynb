{
 "cells": [
  {
   "cell_type": "code",
   "execution_count": 1,
   "metadata": {},
   "outputs": [],
   "source": [
    "import numpy as np\n",
    "import matplotlib.pyplot as plt\n",
    "import os\n",
    "from scipy.stats import vonmises, t"
   ]
  },
  {
   "cell_type": "code",
   "execution_count": 55,
   "metadata": {},
   "outputs": [],
   "source": [
    "def run_simulations(n_exp = 50, pop_size=100, init = 0.1, n_gen = 5000, self_ref = True, meta_mutation_rate = 0.1, nlevels = 5, topk = 8, type = \"instant\"):\n",
    "    \"\"\"\n",
    "        Initialize the parameters.\n",
    "\n",
    "        Parameters:\n",
    "        -----------\n",
    "        n_exp : int, default=50\n",
    "            The number of independent experiments performed.\n",
    "        \n",
    "        pop_size : int, default=100\n",
    "            The number of individuals in the population\n",
    "\n",
    "        init : float, default=0.1\n",
    "            The initialization of meta-parameters.\n",
    "\n",
    "        n_gen : int, default=5000\n",
    "            Total number of generations.\n",
    "\n",
    "        self_ref : bool, default=True\n",
    "            Whether self-referential mutation rates are used (True) or not (False)\n",
    "\n",
    "        meta_mutation_rate : float, default=0.1\n",
    "            The (external) meta mutation rate. It is used only if self-referential mutations rates are not used (referential = False).\n",
    "\n",
    "        nlevels : int, default=5\n",
    "            Total number of levels, INCLUDING the solution level.\n",
    "\n",
    "        topk : int, default=8\n",
    "            The top-k parameter determining the number of top solutions that have children.\n",
    "\n",
    "        type : str, default=\"instant\"\n",
    "            Determining how the mutations propagate - instantly (\"instant\") or in a delayed manner (\"delayed)\n",
    "\n",
    "        Returns:\n",
    "        allbestfitnesses : np.array\n",
    "            A np.array containing all of the best-of-generation fitnesses\n",
    "        allbesties: np.array\n",
    "            A np.array containing the best solution from every generation\n",
    "        allsigmas: np.array\n",
    "        A np.array containing the total history of solutions and mutation rates\n",
    "        \"\"\"\n",
    "\n",
    "    allbestfitnesses = []\n",
    "    allbesties = []\n",
    "    allsigmas = []\n",
    "    for j in range(n_exp):\n",
    "        sigmas_history = []\n",
    "        sigmas = init*np.ones((nlevels,pop_size))\n",
    "        sigmas[-1,:] = 1000\n",
    "        bestfitnesses = []\n",
    "        besties = []\n",
    "        sigmas_history.append(sigmas.copy())\n",
    "        for i in range(n_gen-1):\n",
    "            #fitnesses = np.abs(sigmas[-1,:]-np.ones(pop_size)*np.exp(-5*abs(i % 200 - 100) / 100))\n",
    "            solutions = sigmas[-1,:]\n",
    "            fitnesses = np.abs(solutions-np.zeros(pop_size))\n",
    "            sort_indices = np.argsort(fitnesses)\n",
    "            bestindex = sort_indices[0]\n",
    "            bestfitnesses.append(fitnesses[bestindex])\n",
    "            besties.append(sigmas[:,bestindex].copy())\n",
    "            top_indices = sort_indices[:topk]\n",
    "            other_indices = np.array([i for i in range(pop_size) if i not in top_indices])\n",
    "            sampled_indices = np.random.choice(top_indices, size=len(other_indices), replace=True)\n",
    "            sigmas[:,other_indices] = sigmas[:,sampled_indices]\n",
    "            if type == \"instant\":\n",
    "                if self_ref == True:\n",
    "                    sigmas[0,:] += np.random.normal(0,abs(sigmas[0,:]))\n",
    "                else:\n",
    "                    sigmas[0,:] += np.random.normal(0,meta_mutation_rate)\n",
    "                for k in range(1,nlevels,1): \n",
    "                    sigmas[k,:] += np.random.normal(0,abs(sigmas[k-1,:]))\n",
    "            else:\n",
    "                for k in range(nlevels-1,0,-1): \n",
    "                    sigmas[k,other_indices] += np.random.normal(0,abs(sigmas[k-1,other_indices]))\n",
    "                if self_ref == True:\n",
    "                    sigmas[0,other_indices] += np.random.normal(0,abs(sigmas[0,other_indices]))\n",
    "                else:\n",
    "                    sigmas[0,other_indices] += np.random.normal(0,meta_mutation_rate)\n",
    "            sigmas[:-1,:] = abs(sigmas[:-1,:])\n",
    "            sigmas_history.append(sigmas.copy())\n",
    "        allbestfitnesses.append(bestfitnesses)\n",
    "        allbesties.append(besties)\n",
    "        allsigmas.append(sigmas_history)\n",
    "    return np.array(allbestfitnesses), np.array(allbesties), np.array(allsigmas)"
   ]
  },
  {
   "cell_type": "code",
   "execution_count": 56,
   "metadata": {},
   "outputs": [],
   "source": [
    "allbestfitnesses, allbesties, allsigmas = run_simulations(n_exp = 20, pop_size=100, init = 0.1, n_gen = 2000, self_ref = False, meta_mutation_rate = 0.001, nlevels = 6, topk = 8, type = \"instant\")"
   ]
  },
  {
   "cell_type": "code",
   "execution_count": 57,
   "metadata": {},
   "outputs": [
    {
     "name": "stdout",
     "output_type": "stream",
     "text": [
      "The mean best-of-generation fitness is: 8.38133558376111\n",
      "The median best-of-generation fitness is: 6.173962041419436e-05\n"
     ]
    }
   ],
   "source": [
    "print(\"The mean best-of-generation fitness is: {}\".format(np.mean(allbestfitnesses)))\n",
    "print(\"The median best-of-generation fitness is: {}\".format(np.median(allbestfitnesses)))"
   ]
  },
  {
   "cell_type": "code",
   "execution_count": 59,
   "metadata": {},
   "outputs": [],
   "source": [
    "def plotter(type=\"mean\",what=\"best\",level=0):\n",
    "    if type == \"mean\" and what == \"best\":\n",
    "        plt.plot(np.mean(allbesties[:,:,-1-level], axis=0))\n",
    "    elif type == \"median\" and what == \"best\":\n",
    "        plt.plot(np.median(allbesties[:,:,-1-level], axis=0))\n",
    "    elif type == \"mean\" and what == \"all\":\n",
    "        plt.plot(np.mean(allsigmas[:,:,-1-level,:],axis=(0,2)))\n",
    "    else:\n",
    "        plt.plot(np.median(allsigmas[:,:,-1-level,:],axis=(0,2)))"
   ]
  },
  {
   "cell_type": "code",
   "execution_count": 60,
   "metadata": {},
   "outputs": [
    {
     "data": {
      "image/png": "[encoded data removed]",
      "text/plain": [
       "<Figure size 640x480 with 1 Axes>"
      ]
     },
     "metadata": {},
     "output_type": "display_data"
    }
   ],
   "source": [
    "plotter(\"median\",\"all\",3)"
   ]
  },
  {
   "cell_type": "code",
   "execution_count": null,
   "metadata": {},
   "outputs": [],
   "source": []
  }
 ],
 "metadata": {
  "kernelspec": {
   "display_name": "Python 3",
   "language": "python",
   "name": "python3"
  },
  "language_info": {
   "codemirror_mode": {
    "name": "ipython",
    "version": 3
   },
   "file_extension": ".py",
   "mimetype": "text/x-python",
   "name": "python",
   "nbconvert_exporter": "python",
   "pygments_lexer": "ipython3",
   "version": "3.11.4"
  }
 },
 "nbformat": 4,
 "nbformat_minor": 2
}
