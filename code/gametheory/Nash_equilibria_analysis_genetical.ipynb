{
 "cells": [
  {
   "cell_type": "code",
   "execution_count": 17,
   "metadata": {},
   "outputs": [],
   "source": [
    "import numpy as np\n",
    "import matplotlib.pyplot as plt"
   ]
  },
  {
   "cell_type": "code",
   "execution_count": 18,
   "metadata": {},
   "outputs": [],
   "source": [
    "N = 6 # number of players\n",
    "nr_agents_per_player = 100 # number of agents per player\n",
    "fitnesses = np.sort(np.random.rand(N))[::-1] # fitnesses, sorted\n",
    "generations = 5000  # number of generations\n",
    "mutation_rate = 0.5  # Probability of mutation\n",
    "mutation_amount = 0.3  # Amount of mutation\n",
    "populations = np.array([np.random.rand(nr_agents_per_player ) for _ in range(N)]) # N times nr_agents_per_player table"
   ]
  },
  {
   "cell_type": "code",
   "execution_count": 19,
   "metadata": {},
   "outputs": [],
   "source": [
    "def compute_payoffs(populations):\n",
    "    scores = np.zeros((N, nr_agents_per_player))  # Scores for each member\n",
    "    #print(scores)\n",
    "    for i in range(N):\n",
    "        for j in range(nr_agents_per_player):\n",
    "            for l in range(1):\n",
    "                action = 1*(np.random.rand() < populations[i][j])\n",
    "                #action = (1 if populations[i][j] > 0.5 else 0)  # Action (1 or 0) of the i-th player's j-th member, based on probability\n",
    "                #print(action)\n",
    "                #other_actions = [np.random.rand() < populations[o][np.random.randint(nr_agents_per_player)]\n",
    "                #             for o in range(N) if o != i]\n",
    "                other_actions = [1*(np.mean(populations[o])>0.5)\n",
    "                                for o in range(N) if o != i]\n",
    "                #print(other_actions)\n",
    "                #print(other_actions)\n",
    "                k_value = max(1, sum(other_actions) + action)\n",
    "                #print(k_value)\n",
    "                if k_value >= i+1:\n",
    "                    scores[i, j] += N/k_value\n",
    "                else:\n",
    "                    scores[i, j] += 0\n",
    "    return scores"
   ]
  },
  {
   "cell_type": "code",
   "execution_count": 20,
   "metadata": {},
   "outputs": [],
   "source": [
    "def reproduce(populations, scores):\n",
    "    new_populations = []\n",
    "    for i in range(N):\n",
    "        # Select members with scores proportional to their performance\n",
    "        #print(scores[i])\n",
    "        if sum(scores[i]) > 0:\n",
    "            probabilities = scores[i] / scores[i].sum()\n",
    "        else:\n",
    "            probabilities = np.ones(nr_agents_per_player) / nr_agents_per_player\n",
    "        #print(probabilities)\n",
    "        selected_indices = np.random.choice(np.arange(nr_agents_per_player), size=nr_agents_per_player,\n",
    "                                             p=probabilities)\n",
    "        new_population = populations[i][selected_indices]\n",
    "        #print(new_population)\n",
    "        # Apply mutation\n",
    "        mutations = np.random.rand(nr_agents_per_player) < mutation_rate\n",
    "        mutation_values = (np.random.rand(nr_agents_per_player) - 0.5) * 2 * mutation_amount\n",
    "        new_population[mutations] += mutation_values[mutations]\n",
    "        new_population = np.clip(new_population, 0, 1)  # Ensure probabilities are in [0, 1]\n",
    "        #print(new_population)\n",
    "        new_populations.append(new_population)\n",
    "    return np.array(new_populations)"
   ]
  },
  {
   "cell_type": "code",
   "execution_count": 21,
   "metadata": {},
   "outputs": [
    {
     "name": "stdout",
     "output_type": "stream",
     "text": [
      "Combination counts:\n",
      "Counter({(np.int64(0), np.int64(1)): 2641, (np.int64(0), np.int64(0)): 1817, (np.int64(1), np.int64(1)): 23, (np.int64(1), np.int64(0)): 18})\n",
      "Transition counts:\n",
      "Counter({((np.int64(0), np.int64(1)), (np.int64(0), np.int64(1))): 2402, ((np.int64(0), np.int64(0)), (np.int64(0), np.int64(0))): 1578, ((np.int64(0), np.int64(1)), (np.int64(0), np.int64(0))): 239, ((np.int64(0), np.int64(0)), (np.int64(0), np.int64(1))): 220, ((np.int64(0), np.int64(0)), (np.int64(1), np.int64(0))): 18, ((np.int64(1), np.int64(1)), (np.int64(0), np.int64(1))): 14, ((np.int64(1), np.int64(0)), (np.int64(1), np.int64(1))): 13, ((np.int64(1), np.int64(1)), (np.int64(1), np.int64(1))): 9, ((np.int64(1), np.int64(0)), (np.int64(0), np.int64(1))): 5, ((np.int64(0), np.int64(0)), (np.int64(1), np.int64(1))): 1})\n"
     ]
    }
   ],
   "source": [
    "from collections import Counter\n",
    "N = 4\n",
    "combination_counts4= Counter()\n",
    "transition_counts4 = Counter()\n",
    "for i in range(1):\n",
    "    populations = np.array([np.random.rand(nr_agents_per_player ) for _ in range(N)]) \n",
    "    fitnesses = np.sort(np.random.rand(N))[::-1] \n",
    "    prev_actions = None\n",
    "    # Simulation\n",
    "    for gen in range(generations):\n",
    "        scores = compute_payoffs(populations)\n",
    "        populations = reproduce(populations, scores)\n",
    "        other_actions = tuple(1 * (np.mean(populations[o]) > 0.5) for o in range(N))\n",
    "        #print(other_actions)\n",
    "        if gen > 500:\n",
    "            combination_counts4[other_actions] += 1\n",
    "            if prev_actions is not None:\n",
    "                transition_counts4[(prev_actions, other_actions)] += 1\n",
    "        prev_actions = other_actions\n",
    "\n",
    "# Results\n",
    "final_pops = [pop.mean() for pop in populations]\n",
    "#for i, mean_p in enumerate(final_pops):\n",
    "    #print(f\"Player {i + 1} mean p: {mean_p:.3f}\")\n",
    "\n",
    "print(\"Combination counts:\")\n",
    "print(combination_counts4)\n",
    "\n",
    "print(\"Transition counts:\")\n",
    "print(transition_counts4)"
   ]
  },
  {
   "cell_type": "code",
   "execution_count": 31,
   "metadata": {},
   "outputs": [
    {
     "name": "stdout",
     "output_type": "stream",
     "text": [
      "Weighted sum: [0.         0.69666667 0.92933333 0.52622222]\n"
     ]
    }
   ],
   "source": [
    "weighted_sum4 = np.zeros(len(next(iter(combination_counts4))))  # Initialize with the lengths of the keys\n",
    "for key, weight in combination_counts4.items():\n",
    "    weighted_sum4 += np.array(key) * weight\n",
    "\n",
    "print(\"Weighted sum:\", weighted_sum4/4500)"
   ]
  },
  {
   "cell_type": "code",
   "execution_count": null,
   "metadata": {},
   "outputs": [],
   "source": []
  }
 ],
 "metadata": {
  "kernelspec": {
   "display_name": "gymenv",
   "language": "python",
   "name": "python3"
  },
  "language_info": {
   "codemirror_mode": {
    "name": "ipython",
    "version": 3
   },
   "file_extension": ".py",
   "mimetype": "text/x-python",
   "name": "python",
   "nbconvert_exporter": "python",
   "pygments_lexer": "ipython3",
   "version": "3.11.11"
  }
 },
 "nbformat": 4,
 "nbformat_minor": 2
}
