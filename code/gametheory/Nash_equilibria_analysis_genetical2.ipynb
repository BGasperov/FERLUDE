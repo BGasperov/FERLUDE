{
 "cells": [
  {
   "cell_type": "code",
   "execution_count": 52,
   "metadata": {},
   "outputs": [],
   "source": [
    "import numpy as np\n",
    "import matplotlib.pyplot as plt"
   ]
  },
  {
   "cell_type": "code",
   "execution_count": 104,
   "metadata": {},
   "outputs": [],
   "source": [
    "N = 4 # number of players\n",
    "nr_agents_per_player = 10 # number of agents per player\n",
    "fitnesses = np.sort(np.random.rand(N))[::-1] # fitnesses, sorted\n",
    "generations = 50000  # number of generations\n",
    "mutation_rate = 0.25  # Probability of mutation\n",
    "mutation_amount = 0.15  # Amount of mutation\n",
    "populations = np.random.uniform(0, 1, (N, nr_agents_per_player, N+1)) # N times nr_agents_per_player table"
   ]
  },
  {
   "cell_type": "code",
   "execution_count": 105,
   "metadata": {},
   "outputs": [
    {
     "data": {
      "text/plain": [
       "array([[[0.74186512, 0.40210732, 0.90813656, 0.81892135, 0.11285081],\n",
       "        [0.35776099, 0.5302405 , 0.32855485, 0.48195911, 0.16052762],\n",
       "        [0.49092364, 0.42227546, 0.67162192, 0.74053853, 0.39432851],\n",
       "        [0.27869401, 0.03092324, 0.91280801, 0.15883967, 0.01784123],\n",
       "        [0.20865324, 0.20894077, 0.71089263, 0.98036919, 0.10702238],\n",
       "        [0.39494332, 0.18693166, 0.5551261 , 0.00607601, 0.82665652],\n",
       "        [0.79525133, 0.80960518, 0.17491897, 0.25514941, 0.92038885],\n",
       "        [0.78651579, 0.58456603, 0.95237339, 0.54742038, 0.19890812],\n",
       "        [0.29279618, 0.3233154 , 0.2622555 , 0.98038526, 0.60388397],\n",
       "        [0.54138981, 0.12059404, 0.71940834, 0.95855639, 0.18082571]],\n",
       "\n",
       "       [[0.74217375, 0.96695501, 0.62959312, 0.23192644, 0.04443725],\n",
       "        [0.09108876, 0.79768894, 0.12551743, 0.50205566, 0.7316225 ],\n",
       "        [0.34871401, 0.53907569, 0.30033632, 0.61846726, 0.7195628 ],\n",
       "        [0.30330988, 0.57048696, 0.91442029, 0.71434299, 0.42224171],\n",
       "        [0.26031384, 0.33096661, 0.99376533, 0.76717211, 0.47477778],\n",
       "        [0.79082914, 0.96941865, 0.13858494, 0.43486812, 0.71057582],\n",
       "        [0.44733735, 0.06681152, 0.71723742, 0.45940185, 0.01889988],\n",
       "        [0.85365648, 0.51371118, 0.59801009, 0.05103554, 0.74061691],\n",
       "        [0.38005029, 0.96441344, 0.59222387, 0.19538712, 0.65865357],\n",
       "        [0.17918765, 0.8168598 , 0.34220342, 0.50396328, 0.33219288]],\n",
       "\n",
       "       [[0.80452718, 0.36648088, 0.68240295, 0.65503394, 0.48150054],\n",
       "        [0.05762089, 0.10930345, 0.79014905, 0.50260661, 0.61725697],\n",
       "        [0.62194097, 0.27262002, 0.69079323, 0.36625544, 0.75952987],\n",
       "        [0.49425611, 0.57490979, 0.8405421 , 0.01477514, 0.85108638],\n",
       "        [0.73188406, 0.27845682, 0.65523047, 0.04513829, 0.49283506],\n",
       "        [0.54362172, 0.38385245, 0.49791744, 0.69430022, 0.91903714],\n",
       "        [0.95743866, 0.05040071, 0.90064466, 0.73406107, 0.57642412],\n",
       "        [0.4208093 , 0.16474497, 0.57235718, 0.64518033, 0.35393718],\n",
       "        [0.47304971, 0.62806609, 0.88620574, 0.57154538, 0.15748784],\n",
       "        [0.56172226, 0.95180291, 0.17772008, 0.25700517, 0.54307976]],\n",
       "\n",
       "       [[0.18379634, 0.82488903, 0.7997679 , 0.64087118, 0.69652408],\n",
       "        [0.15336682, 0.50453768, 0.19878084, 0.26515542, 0.3520025 ],\n",
       "        [0.31981629, 0.56546427, 0.40629595, 0.81071607, 0.71756741],\n",
       "        [0.06186397, 0.63695603, 0.47438087, 0.76237334, 0.64780607],\n",
       "        [0.33314181, 0.35450196, 0.52314111, 0.428779  , 0.67249084],\n",
       "        [0.22890075, 0.55737965, 0.9118037 , 0.00319845, 0.31858903],\n",
       "        [0.53365054, 0.11626605, 0.63324669, 0.68836419, 0.94885508],\n",
       "        [0.60638252, 0.8250295 , 0.14775256, 0.65489789, 0.57159746],\n",
       "        [0.34696033, 0.736196  , 0.90098092, 0.73673704, 0.42730191],\n",
       "        [0.09614761, 0.69094455, 0.15722753, 0.5538768 , 0.31534804]]])"
      ]
     },
     "execution_count": 105,
     "metadata": {},
     "output_type": "execute_result"
    }
   ],
   "source": [
    "populations"
   ]
  },
  {
   "cell_type": "code",
   "execution_count": 106,
   "metadata": {},
   "outputs": [],
   "source": [
    "def compute_payoffs(populations, lastsum):\n",
    "    scores = np.zeros((N, nr_agents_per_player))  # Scores for each member\n",
    "    #print(scores)\n",
    "    for i in range(N):\n",
    "        for j in range(nr_agents_per_player):\n",
    "            for l in range(1):\n",
    "                action = int(1*(np.random.rand() < populations[i,j,lastsum]))\n",
    "                #action = (1 if populations[i][j] > 0.5 else 0)  # Action (1 or 0) of the i-th player's j-th member, based on probability\n",
    "                #print(action)\n",
    "                #other_actions = [np.random.rand() < populations[o][np.random.randint(nr_agents_per_player)]\n",
    "                #             for o in range(N) if o != i]\n",
    "                other_actions = [int(1*(np.mean(populations[o,:,lastsum])>0.5))\n",
    "                                for o in range(N) if o != i]\n",
    "                #print(other_actions)\n",
    "                #print(other_actions)\n",
    "                k_value = max(1, sum(other_actions) + action)\n",
    "                #print(k_value)\n",
    "                if k_value >= i+1:\n",
    "                    scores[i, j] += N/k_value\n",
    "                else:\n",
    "                    scores[i, j] += 0\n",
    "    return scores"
   ]
  },
  {
   "cell_type": "code",
   "execution_count": 107,
   "metadata": {},
   "outputs": [],
   "source": [
    "scores = compute_payoffs(populations, 0)"
   ]
  },
  {
   "cell_type": "code",
   "execution_count": 108,
   "metadata": {},
   "outputs": [
    {
     "data": {
      "text/plain": [
       "array([[[0.40728886, 0.08380545, 0.9681773 , 0.11214535, 0.        ],\n",
       "        [0.27869401, 0.03092324, 0.91280801, 0.15883967, 0.01784123],\n",
       "        [0.20865324, 0.20894077, 0.71089263, 0.98036919, 0.10702238],\n",
       "        [0.20865324, 0.20894077, 0.71089263, 0.98036919, 0.10702238],\n",
       "        [0.71092825, 0.34314452, 0.87865319, 0.8033075 , 0.01917592],\n",
       "        [0.74186512, 0.40210732, 0.90813656, 0.81892135, 0.11285081],\n",
       "        [0.35776099, 0.5302405 , 0.32855485, 0.48195911, 0.16052762],\n",
       "        [0.27869401, 0.03092324, 0.91280801, 0.15883967, 0.01784123],\n",
       "        [0.39494332, 0.18693166, 0.5551261 , 0.00607601, 0.82665652],\n",
       "        [0.79525133, 0.80960518, 0.17491897, 0.25514941, 0.92038885]],\n",
       "\n",
       "       [[0.38005029, 0.96441344, 0.59222387, 0.19538712, 0.65865357],\n",
       "        [0.92945223, 0.54651332, 0.64639585, 0.00286094, 0.77529442],\n",
       "        [0.21166764, 0.50163763, 0.96340413, 0.79426281, 0.46482062],\n",
       "        [0.26031384, 0.33096661, 0.99376533, 0.76717211, 0.47477778],\n",
       "        [0.30330988, 0.57048696, 0.91442029, 0.71434299, 0.42224171],\n",
       "        [0.79082914, 0.96941865, 0.13858494, 0.43486812, 0.71057582],\n",
       "        [0.79082914, 0.96941865, 0.13858494, 0.43486812, 0.71057582],\n",
       "        [0.9796442 , 0.44050743, 0.56690163, 0.01961546, 0.72676685],\n",
       "        [0.74217375, 0.96695501, 0.62959312, 0.23192644, 0.04443725],\n",
       "        [0.74217375, 0.96695501, 0.62959312, 0.23192644, 0.04443725]],\n",
       "\n",
       "       [[0.82221788, 0.47218755, 0.57908977, 0.74980012, 0.51575928],\n",
       "        [0.05762089, 0.10930345, 0.79014905, 0.50260661, 0.61725697],\n",
       "        [0.05762089, 0.10930345, 0.79014905, 0.50260661, 0.61725697],\n",
       "        [0.73188406, 0.27845682, 0.65523047, 0.04513829, 0.49283506],\n",
       "        [0.49425611, 0.57490979, 0.8405421 , 0.01477514, 0.85108638],\n",
       "        [0.62194097, 0.27262002, 0.69079323, 0.36625544, 0.75952987],\n",
       "        [0.54362172, 0.38385245, 0.49791744, 0.69430022, 0.91903714],\n",
       "        [0.49425611, 0.57490979, 0.8405421 , 0.01477514, 0.85108638],\n",
       "        [0.49480553, 0.55394107, 0.8336477 , 0.        , 0.76362609],\n",
       "        [0.62194097, 0.27262002, 0.69079323, 0.36625544, 0.75952987]],\n",
       "\n",
       "       [[0.09614761, 0.69094455, 0.15722753, 0.5538768 , 0.31534804],\n",
       "        [0.53365054, 0.11626605, 0.63324669, 0.68836419, 0.94885508],\n",
       "        [0.09166024, 0.47394868, 1.        , 0.        , 0.18133645],\n",
       "        [0.06186397, 0.63695603, 0.47438087, 0.76237334, 0.64780607],\n",
       "        [0.18379634, 0.82488903, 0.7997679 , 0.64087118, 0.69652408],\n",
       "        [0.31981629, 0.56546427, 0.40629595, 0.81071607, 0.71756741],\n",
       "        [0.18379634, 0.82488903, 0.7997679 , 0.64087118, 0.69652408],\n",
       "        [0.15336682, 0.50453768, 0.19878084, 0.26515542, 0.3520025 ],\n",
       "        [0.0695025 , 0.73496287, 0.94125049, 0.70880644, 0.81634143],\n",
       "        [0.53365054, 0.11626605, 0.63324669, 0.68836419, 0.94885508]]])"
      ]
     },
     "execution_count": 108,
     "metadata": {},
     "output_type": "execute_result"
    }
   ],
   "source": [
    "reproduce(populations, scores)"
   ]
  },
  {
   "cell_type": "code",
   "execution_count": 109,
   "metadata": {},
   "outputs": [],
   "source": [
    "def reproduce(populations, scores):\n",
    "    new_populations = []\n",
    "    for i in range(N):\n",
    "        # Select members with scores proportional to their performance\n",
    "        #print(scores[i])\n",
    "        if sum(scores[i]) > 0:\n",
    "            probabilities = scores[i] / scores[i].sum()\n",
    "        else:\n",
    "            probabilities = np.ones(nr_agents_per_player) / nr_agents_per_player\n",
    "        #print(probabilities)\n",
    "        selected_indices = np.random.choice(np.arange(nr_agents_per_player), size=nr_agents_per_player,\n",
    "                                             p=probabilities)\n",
    "        new_population = populations[i,selected_indices]\n",
    "        #print(new_population)\n",
    "        #print(new_population)\n",
    "        # Apply mutation\n",
    "        mutations = np.random.rand(nr_agents_per_player) < mutation_rate\n",
    "        #print(mutations)\n",
    "        mutation_values = (np.random.rand(nr_agents_per_player,N+1) - 0.5) * 2 * mutation_amount\n",
    "        #print(mutation_values)\n",
    "        new_population[mutations] += mutation_values[mutations]\n",
    "        new_population = np.clip(new_population, 0, 1)  # Ensure probabilities are in [0, 1]\n",
    "        #print(new_population)\n",
    "        new_populations.append(new_population)\n",
    "    return np.array(new_populations)"
   ]
  },
  {
   "cell_type": "code",
   "execution_count": 110,
   "metadata": {},
   "outputs": [
    {
     "name": "stdout",
     "output_type": "stream",
     "text": [
      "Combination counts:\n",
      "Counter({(np.int64(0), np.int64(1)): 21039, (np.int64(0), np.int64(0)): 14435, (np.int64(1), np.int64(1)): 8696, (np.int64(1), np.int64(0)): 5329})\n",
      "Transition counts:\n",
      "Counter({((np.int64(0), np.int64(1)), (np.int64(0), np.int64(1))): 19952, ((np.int64(0), np.int64(0)), (np.int64(0), np.int64(0))): 13472, ((np.int64(1), np.int64(1)), (np.int64(1), np.int64(1))): 7998, ((np.int64(1), np.int64(0)), (np.int64(1), np.int64(0))): 4751, ((np.int64(0), np.int64(1)), (np.int64(0), np.int64(0))): 657, ((np.int64(0), np.int64(0)), (np.int64(0), np.int64(1))): 628, ((np.int64(1), np.int64(1)), (np.int64(0), np.int64(1))): 445, ((np.int64(0), np.int64(1)), (np.int64(1), np.int64(1))): 417, ((np.int64(0), np.int64(0)), (np.int64(1), np.int64(0))): 319, ((np.int64(1), np.int64(0)), (np.int64(0), np.int64(0))): 299, ((np.int64(1), np.int64(0)), (np.int64(1), np.int64(1))): 266, ((np.int64(1), np.int64(1)), (np.int64(1), np.int64(0))): 246, ((np.int64(0), np.int64(0)), (np.int64(1), np.int64(1))): 15, ((np.int64(1), np.int64(0)), (np.int64(0), np.int64(1))): 14, ((np.int64(0), np.int64(1)), (np.int64(1), np.int64(0))): 13, ((np.int64(1), np.int64(1)), (np.int64(0), np.int64(0))): 7})\n"
     ]
    }
   ],
   "source": [
    "from collections import Counter\n",
    "N = 2\n",
    "combination_counts2 = Counter()\n",
    "transition_counts2 = Counter()\n",
    "populations = np.random.uniform(0, 1, (N, nr_agents_per_player, N+1)) \n",
    "fitnesses = np.sort(np.random.rand(N))[::-1] \n",
    "prev_actions = None\n",
    "lastsum = 0\n",
    "# Simulation\n",
    "for gen in range(generations):\n",
    "    scores = compute_payoffs(populations, lastsum)\n",
    "    populations = reproduce(populations, scores)\n",
    "    other_actions = tuple(1 * (np.mean(populations[o]) > 0.5) for o in range(N))\n",
    "    #print(other_actions)\n",
    "    if gen > 500:\n",
    "        combination_counts2[other_actions] += 1\n",
    "        if prev_actions is not None:\n",
    "            transition_counts2[(prev_actions, other_actions)] += 1\n",
    "    prev_actions = other_actions\n",
    "\n",
    "# Results\n",
    "final_pops = [pop.mean() for pop in populations]\n",
    "#for i, mean_p in enumerate(final_pops):\n",
    "    #print(f\"Player {i + 1} mean p: {mean_p:.3f}\")\n",
    "\n",
    "print(\"Combination counts:\")\n",
    "print(combination_counts2)\n",
    "\n",
    "print(\"Transition counts:\")\n",
    "print(transition_counts2)"
   ]
  },
  {
   "cell_type": "code",
   "execution_count": 115,
   "metadata": {},
   "outputs": [
    {
     "name": "stdout",
     "output_type": "stream",
     "text": [
      "Weighted sum: [0.2909697  0.51319192 0.6480404  0.47783838]\n"
     ]
    }
   ],
   "source": [
    "weighted_sum4 = np.zeros(len(next(iter(combination_counts4))))  # Initialize with the length of the keys\n",
    "for key, weight in combination_counts4.items():\n",
    "    weighted_sum4 += np.array(key) * weight\n",
    "\n",
    "print(\"Weighted sum:\", weighted_sum4/49500)"
   ]
  }
 ],
 "metadata": {
  "kernelspec": {
   "display_name": "gymenv",
   "language": "python",
   "name": "python3"
  },
  "language_info": {
   "codemirror_mode": {
    "name": "ipython",
    "version": 3
   },
   "file_extension": ".py",
   "mimetype": "text/x-python",
   "name": "python",
   "nbconvert_exporter": "python",
   "pygments_lexer": "ipython3",
   "version": "3.11.11"
  }
 },
 "nbformat": 4,
 "nbformat_minor": 2
}
